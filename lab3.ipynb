{
  "nbformat": 4,
  "nbformat_minor": 0,
  "metadata": {
    "colab": {
      "provenance": [],
      "authorship_tag": "ABX9TyOf2OsuuZhttygVHlQL6PlG",
      "include_colab_link": true
    },
    "kernelspec": {
      "name": "python3",
      "display_name": "Python 3"
    },
    "language_info": {
      "name": "python"
    }
  },
  "cells": [
    {
      "cell_type": "markdown",
      "metadata": {
        "id": "view-in-github",
        "colab_type": "text"
      },
      "source": [
        "<a href=\"https://colab.research.google.com/github/2303A51589/pythonDS/blob/main/lab3.ipynb\" target=\"_parent\"><img src=\"https://colab.research.google.com/assets/colab-badge.svg\" alt=\"Open In Colab\"/></a>"
      ]
    },
    {
      "cell_type": "code",
      "execution_count": 9,
      "metadata": {
        "id": "apmHiBGP5YxV"
      },
      "outputs": [],
      "source": [
        "fp = open(\"example.txt\",\"w\")\n",
        "fp.write(\"Hello,B.Tech students!\\n\")\n",
        "fp.write(\"this is file handling in python.\\n\")\n",
        "fp.write(\"sr university.\\n\")\n",
        "fp.write(\"koushik\")\n",
        "fp.close()"
      ]
    },
    {
      "cell_type": "code",
      "source": [
        "file = open(\"example.txt\",\"r\")\n",
        "print(file.read())\n",
        "file.close()"
      ],
      "metadata": {
        "colab": {
          "base_uri": "https://localhost:8080/"
        },
        "id": "CSBBsNdt7bxP",
        "outputId": "e30d6e2a-413e-47e3-8ff5-4251b8ac76a4"
      },
      "execution_count": 10,
      "outputs": [
        {
          "output_type": "stream",
          "name": "stdout",
          "text": [
            "Hello,B.Tech students!\n",
            "this is file handling in python.\n",
            "sr university.\n",
            "koushik\n"
          ]
        }
      ]
    },
    {
      "cell_type": "code",
      "source": [
        "file = open(\"example.txt\",\"r\")\n",
        "line1 =file.readline()\n",
        "print(line1)\n",
        "line2 =file.readline()\n",
        "print(line2)\n",
        "line3 =file.readline()\n",
        "print(line3)\n",
        "\n",
        "file.close()"
      ],
      "metadata": {
        "colab": {
          "base_uri": "https://localhost:8080/"
        },
        "id": "wBk8HBoT9VyH",
        "outputId": "d3d6127e-7206-4f83-d104-5fc455c20d36"
      },
      "execution_count": 16,
      "outputs": [
        {
          "output_type": "stream",
          "name": "stdout",
          "text": [
            "Hello,B.Tech students!\n",
            "\n",
            "this is file handling in python.\n",
            "\n",
            "sr university.\n",
            "\n"
          ]
        }
      ]
    },
    {
      "cell_type": "code",
      "source": [
        "file = open(\"example.txt\",\"r\")\n",
        "lines =file.readlines()\n",
        "print(lines)\n",
        "file.close()"
      ],
      "metadata": {
        "colab": {
          "base_uri": "https://localhost:8080/"
        },
        "id": "nBsxk1mE-sq3",
        "outputId": "e9483170-b1b0-42d4-a271-74340e7b1dee"
      },
      "execution_count": 17,
      "outputs": [
        {
          "output_type": "stream",
          "name": "stdout",
          "text": [
            "['Hello,B.Tech students!\\n', 'this is file handling in python.\\n', 'sr universitykoushik']\n"
          ]
        }
      ]
    },
    {
      "cell_type": "code",
      "source": [
        "# Appending data to an existing file\n",
        "file = open(\"example.txt\",\"a\")\n",
        "file.write(\"This is appended text.\\n\")\n",
        "file.close()"
      ],
      "metadata": {
        "id": "UWhkBUiR_RSz"
      },
      "execution_count": 38,
      "outputs": []
    },
    {
      "cell_type": "code",
      "source": [
        "file = open(\"example.txt\",\"r\")\n",
        "print(file.read())\n",
        "file.close()"
      ],
      "metadata": {
        "colab": {
          "base_uri": "https://localhost:8080/"
        },
        "id": "UBGNc311BY4P",
        "outputId": "e59eb8be-ce99-4a80-bad0-d91aeab96e57"
      },
      "execution_count": 39,
      "outputs": [
        {
          "output_type": "stream",
          "name": "stdout",
          "text": [
            "Hello,B.Tech students!\n",
            "this is file handling in python.\n",
            "sr universitykoushikThis is appended text.\n",
            "This is appended text.\n",
            "This is appended text.\n",
            "This is appended text.\n",
            "This is appended text.\n",
            "This is appended text.\n",
            "\n"
          ]
        }
      ]
    },
    {
      "cell_type": "code",
      "source": [
        "import csv\n",
        "with open(\"data.csv\",\"w\",newline=\"\") as file:\n",
        "    writer = csv.writer(file)\n",
        "    writer.writerow([\"Name\",\"Age\",\"City\"])\n",
        "    writer.writerow([\"John\",25,\"New York\"])\n",
        "    writer.writerow([\"Alice\",30,\"London\"])\n",
        "    writer.writerow([\"Bob\",28,\"Paris\"])\n"
      ],
      "metadata": {
        "id": "-iMzRSQ1B1wl"
      },
      "execution_count": 40,
      "outputs": []
    },
    {
      "cell_type": "code",
      "source": [
        "#reading from csv\n",
        "with open(\"data.csv\",\"r\") as file:\n",
        "    reader = csv.reader(file)\n",
        "    for row in reader:\n",
        "        print(row)"
      ],
      "metadata": {
        "colab": {
          "base_uri": "https://localhost:8080/"
        },
        "id": "Oj1CoNjWCeTq",
        "outputId": "a5585d86-a103-4347-d0ca-9111588f902c"
      },
      "execution_count": 41,
      "outputs": [
        {
          "output_type": "stream",
          "name": "stdout",
          "text": [
            "['Name', 'Age', 'City']\n",
            "['John', '25', 'New York']\n",
            "['Alice', '30', 'London']\n",
            "['Bob', '28', 'Paris']\n"
          ]
        }
      ]
    },
    {
      "cell_type": "code",
      "source": [
        "import numpy as np\n",
        "arr1 =np.array([1,2,3,4])\n",
        "print(arr1)"
      ],
      "metadata": {
        "colab": {
          "base_uri": "https://localhost:8080/"
        },
        "id": "EW2DjWb5EJOy",
        "outputId": "e2577d77-53f4-401f-f818-4b16ef886b9e"
      },
      "execution_count": 43,
      "outputs": [
        {
          "output_type": "stream",
          "name": "stdout",
          "text": [
            "[1 2 3 4]\n"
          ]
        }
      ]
    },
    {
      "cell_type": "code",
      "source": [
        "arr2= np.array([[1,2,3,4],[6,7,8,9]])\n",
        "print(arr2)"
      ],
      "metadata": {
        "colab": {
          "base_uri": "https://localhost:8080/"
        },
        "id": "m5msdGyxEs3D",
        "outputId": "ff55fcef-ad33-42cb-8c11-859ff34a0e40"
      },
      "execution_count": 45,
      "outputs": [
        {
          "output_type": "stream",
          "name": "stdout",
          "text": [
            "[[1 2 3 4]\n",
            " [6 7 8 9]]\n"
          ]
        }
      ]
    },
    {
      "cell_type": "code",
      "source": [
        "zero_arr = np.zeros((3,3))\n",
        "print(zero_arr)"
      ],
      "metadata": {
        "colab": {
          "base_uri": "https://localhost:8080/"
        },
        "id": "2pOD8gBrFKlr",
        "outputId": "c12b2e09-ff4a-4ccc-a0eb-6325e2b09349"
      },
      "execution_count": 46,
      "outputs": [
        {
          "output_type": "stream",
          "name": "stdout",
          "text": [
            "[[0. 0. 0.]\n",
            " [0. 0. 0.]\n",
            " [0. 0. 0.]]\n"
          ]
        }
      ]
    },
    {
      "cell_type": "code",
      "source": [
        "ones_arr = np.ones((3,3))\n",
        "print(ones_arr)"
      ],
      "metadata": {
        "colab": {
          "base_uri": "https://localhost:8080/"
        },
        "id": "zsalmLp-FV-7",
        "outputId": "be1bfc59-afc6-4266-d461-70832523bea3"
      },
      "execution_count": 47,
      "outputs": [
        {
          "output_type": "stream",
          "name": "stdout",
          "text": [
            "[[1. 1. 1.]\n",
            " [1. 1. 1.]\n",
            " [1. 1. 1.]]\n"
          ]
        }
      ]
    },
    {
      "cell_type": "code",
      "source": [
        "range_arr = np.arange(1,50,6)\n",
        "print(range_arr)"
      ],
      "metadata": {
        "colab": {
          "base_uri": "https://localhost:8080/"
        },
        "id": "37Iu9AF2FV7j",
        "outputId": "7a29b347-8e07-46c9-9493-b09d7227a573"
      },
      "execution_count": 51,
      "outputs": [
        {
          "output_type": "stream",
          "name": "stdout",
          "text": [
            "[ 1  7 13 19 25 31 37 43 49]\n"
          ]
        }
      ]
    },
    {
      "cell_type": "code",
      "source": [
        "rand_arr= np.random.rand(3,3)\n",
        "print(rand_arr)"
      ],
      "metadata": {
        "colab": {
          "base_uri": "https://localhost:8080/"
        },
        "id": "bpG2gmWUFg7x",
        "outputId": "8b0d666c-b141-4bd9-fad4-077b5019ba61"
      },
      "execution_count": 52,
      "outputs": [
        {
          "output_type": "stream",
          "name": "stdout",
          "text": [
            "[[0.24949368 0.33856596 0.60238942]\n",
            " [0.45588624 0.3995846  0.71856443]\n",
            " [0.1349784  0.49544945 0.24444755]]\n"
          ]
        }
      ]
    },
    {
      "cell_type": "code",
      "source": [
        "arr = np.array([[1,2,3],[4,5,6]])\n",
        "print(arr.shape)\n",
        "print(arr.dtype)\n",
        "print(arr.size)\n",
        "print(arr.ndim)\n",
        "print(arr.itemsize)"
      ],
      "metadata": {
        "colab": {
          "base_uri": "https://localhost:8080/"
        },
        "id": "Ol7fct7xHFe7",
        "outputId": "a7d066d6-7e7f-4956-c011-dbd7f847960a"
      },
      "execution_count": 59,
      "outputs": [
        {
          "output_type": "stream",
          "name": "stdout",
          "text": [
            "(2, 3)\n",
            "int64\n",
            "6\n",
            "2\n",
            "8\n"
          ]
        }
      ]
    },
    {
      "cell_type": "code",
      "source": [
        "#array operations\n",
        "a = np.array([1,2,3])\n",
        "b = np.array([4,5,6])\n",
        "print(a+b)\n",
        "print(a-b)\n",
        "print(a*b)\n",
        "print(a/b)\n",
        "print(a**b)"
      ],
      "metadata": {
        "colab": {
          "base_uri": "https://localhost:8080/"
        },
        "id": "7ToV4sSUPsEu",
        "outputId": "c5a87ee2-f9ce-4c40-fbdc-7c0a2e0300f2"
      },
      "execution_count": 60,
      "outputs": [
        {
          "output_type": "stream",
          "name": "stdout",
          "text": [
            "[5 7 9]\n",
            "[-3 -3 -3]\n",
            "[ 4 10 18]\n",
            "[0.25 0.4  0.5 ]\n",
            "[  1  32 729]\n"
          ]
        }
      ]
    },
    {
      "cell_type": "code",
      "source": [
        "array = np.array([[1,2,3],[4,5,6]])\n",
        "print(np.sum(array))\n",
        "print(np.sum(array,axis=0))\n",
        "print(np.sum(array,axis=1))\n",
        "print(np.min(array))\n",
        "print(np.max(array))\n",
        "\n"
      ],
      "metadata": {
        "colab": {
          "base_uri": "https://localhost:8080/"
        },
        "id": "_Y-ZBlczRDfU",
        "outputId": "3ce5a617-8140-4e0d-df22-01e0903b12e6"
      },
      "execution_count": 62,
      "outputs": [
        {
          "output_type": "stream",
          "name": "stdout",
          "text": [
            "21\n",
            "[5 7 9]\n",
            "[ 6 15]\n",
            "1\n",
            "6\n"
          ]
        }
      ]
    },
    {
      "cell_type": "code",
      "source": [
        "#broadcasting\n",
        "a = np.array([1,2,3])\n",
        "b =5\n",
        "print(a+b)\n",
        "c = np.array([[1,2,3],[1,2,3]])\n",
        "d = np.array([4,5,6])\n",
        "print(c+d)"
      ],
      "metadata": {
        "colab": {
          "base_uri": "https://localhost:8080/"
        },
        "id": "dBAdW0QaThQc",
        "outputId": "0472f976-cac4-4db0-c04e-baaebe252aed"
      },
      "execution_count": 63,
      "outputs": [
        {
          "output_type": "stream",
          "name": "stdout",
          "text": [
            "[6 7 8]\n",
            "[[5 7 9]\n",
            " [5 7 9]]\n"
          ]
        }
      ]
    },
    {
      "cell_type": "markdown",
      "source": [],
      "metadata": {
        "id": "McNjVMJKWmFt"
      }
    }
  ]
}