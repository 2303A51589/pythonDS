{
  "nbformat": 4,
  "nbformat_minor": 0,
  "metadata": {
    "colab": {
      "provenance": [],
      "toc_visible": true,
      "authorship_tag": "ABX9TyMrKSoM8OHiKVMqz9GP7/Ou",
      "include_colab_link": true
    },
    "kernelspec": {
      "name": "python3",
      "display_name": "Python 3"
    },
    "language_info": {
      "name": "python"
    }
  },
  "cells": [
    {
      "cell_type": "markdown",
      "metadata": {
        "id": "view-in-github",
        "colab_type": "text"
      },
      "source": [
        "<a href=\"https://colab.research.google.com/github/2303A51589/pythonDS/blob/main/lab2.ipynb\" target=\"_parent\"><img src=\"https://colab.research.google.com/assets/colab-badge.svg\" alt=\"Open In Colab\"/></a>"
      ]
    },
    {
      "cell_type": "code",
      "execution_count": 1,
      "metadata": {
        "colab": {
          "base_uri": "https://localhost:8080/"
        },
        "id": "YrCga94XD4Qz",
        "outputId": "edb552c6-dee5-4f47-8949-56eb4f053f14"
      },
      "outputs": [
        {
          "output_type": "stream",
          "name": "stdout",
          "text": [
            "[10, 20, 30, 40]\n",
            "found\n",
            "[10, 20, 30, 40, 50]\n",
            "[10, 20, 40, 50]\n",
            "[10, 20, 25, 40, 50]\n",
            "[10, 20, 25, 40]\n",
            "[40, 25, 20, 10]\n",
            "95\n",
            "10\n",
            "[[20, 30], [50, 60], [23, 45], [76, 87]]\n",
            "\n",
            "Student:\n",
            "[[20 30]\n",
            " [50 60]\n",
            " [23 45]\n",
            " [76 87]]\n"
          ]
        }
      ],
      "source": [
        "l=[10,20,30,40]\n",
        "print(l)\n",
        "if 20 in l:\n",
        "  print(\"found\")\n",
        "l.append(50)\n",
        "print(l)\n",
        "l.remove(30)\n",
        "print(l)\n",
        "l.insert(2,25)\n",
        "print(l)\n",
        "l.pop()\n",
        "print(l)\n",
        "l.sort()\n",
        "l.reverse()\n",
        "print(l)\n",
        "print(sum(l))\n",
        "\n",
        "\n",
        "print(min(l))\n",
        "student=[[20,30],[50,60],[23,45],[76,87]]\n",
        "print(student)\n",
        "\n",
        "import numpy as np\n",
        "\n",
        "student = np.array(student)\n",
        "print(\"\\nStudent:\")\n",
        "print(student)\n",
        "\n"
      ]
    },
    {
      "cell_type": "code",
      "source": [
        "t = (10,3,24,25,26)\n",
        "\n",
        "print(t)\n",
        "\n",
        "t = (10,3,24,25,24,26)\n",
        "print(t)\n",
        "for i in t :\n",
        "  print(type(i),i)\n",
        "if 20 in t:\n",
        "  print(\"found\")\n",
        "else:\n",
        "  print(\"not found\")\n",
        "t = (10,3,24,25,24,26)\n",
        "print(t.count(25))\n",
        "print(t.index(24))\n",
        "l = [10,20,30,40,]\n",
        "mytuple = tuple(l)\n",
        "print(mytuple)\n",
        "student = ((20,30),(34,45),(67,78))\n",
        "print(student)"
      ],
      "metadata": {
        "colab": {
          "base_uri": "https://localhost:8080/"
        },
        "id": "z8_gmEYnFJS7",
        "outputId": "25261cbb-b89e-44ec-8646-85d178224d7e"
      },
      "execution_count": 2,
      "outputs": [
        {
          "output_type": "stream",
          "name": "stdout",
          "text": [
            "(10, 3, 24, 25, 26)\n",
            "(10, 3, 24, 25, 24, 26)\n",
            "<class 'int'> 10\n",
            "<class 'int'> 3\n",
            "<class 'int'> 24\n",
            "<class 'int'> 25\n",
            "<class 'int'> 24\n",
            "<class 'int'> 26\n",
            "not found\n",
            "1\n",
            "2\n",
            "(10, 20, 30, 40)\n",
            "((20, 30), (34, 45), (67, 78))\n"
          ]
        }
      ]
    },
    {
      "cell_type": "code",
      "source": [
        "\n",
        "\n",
        "\n",
        "student={\"name\":\"python\",\"id\":\"101\",\"branch\":\"cse\"}\n",
        "print(student.keys())\n",
        "print(student.values())\n",
        "print(student.items())\n",
        "print(student[\"name\"])"
      ],
      "metadata": {
        "colab": {
          "base_uri": "https://localhost:8080/"
        },
        "id": "Kz4-KTlQFRYZ",
        "outputId": "8024c161-d94f-40d8-fff4-93c497e4fa7d"
      },
      "execution_count": 3,
      "outputs": [
        {
          "output_type": "stream",
          "name": "stdout",
          "text": [
            "dict_keys(['name', 'id', 'branch'])\n",
            "dict_values(['python', '101', 'cse'])\n",
            "dict_items([('name', 'python'), ('id', '101'), ('branch', 'cse')])\n",
            "python\n"
          ]
        }
      ]
    },
    {
      "cell_type": "code",
      "source": [
        "l = [[10,20],[30,40],[70,39]]\n",
        "for i in l:\n",
        "  print(i)"
      ],
      "metadata": {
        "colab": {
          "base_uri": "https://localhost:8080/"
        },
        "id": "1Rbh4--vF3Fl",
        "outputId": "7d7c52ec-febb-4503-8702-e44b99cdca70"
      },
      "execution_count": 6,
      "outputs": [
        {
          "output_type": "stream",
          "name": "stdout",
          "text": [
            "[10, 20]\n",
            "[30, 40]\n",
            "[70, 39]\n"
          ]
        }
      ]
    },
    {
      "cell_type": "code",
      "source": [
        "s = {1,2,3,4,6}\n",
        "print(s)\n",
        "s = {1,2,3,2,3,2}\n",
        "print(s)\n",
        "for i in s:\n",
        "  print(i)\n",
        "if 2 in s:\n",
        "  print(\"dhorikindhi\")\n",
        "else:\n",
        "  print(\"dorakale\")\n",
        "s = {1,12,13}\n",
        "print(sum(s))\n",
        "s.add(4)\n",
        "print(s)\n",
        "s = {1,2,3,4,6}\n",
        "s.remove(2)\n",
        "print(s)\n",
        "s.clear()\n",
        "print(s)"
      ],
      "metadata": {
        "colab": {
          "base_uri": "https://localhost:8080/"
        },
        "id": "LjBKjfmwGJMz",
        "outputId": "f99721a6-7d5c-4ed1-dbd4-a64807dce1a7"
      },
      "execution_count": 18,
      "outputs": [
        {
          "output_type": "stream",
          "name": "stdout",
          "text": [
            "{1, 2, 3, 4, 6}\n",
            "{1, 2, 3}\n",
            "1\n",
            "2\n",
            "3\n",
            "dhorikindhi\n",
            "26\n",
            "{1, 4, 12, 13}\n",
            "{1, 3, 4, 6}\n",
            "set()\n"
          ]
        }
      ]
    },
    {
      "cell_type": "code",
      "source": [],
      "metadata": {
        "id": "J9YC2jxvGidI"
      },
      "execution_count": null,
      "outputs": []
    },
    {
      "cell_type": "code",
      "source": [
        "\n",
        "student = np.array([\n",
        "    [78, 85, 90],\n",
        "    [92, 76, 88],\n",
        "    [65, 70, 75],\n",
        "    [88, 91, 85],\n",
        "    [70, 65, 72]\n",
        "])\n",
        "\n",
        "print(\"Student:\")\n",
        "print(student)\n",
        "average_marks = np.mean(student)\n",
        "min_marks = np.min(student)\n",
        "max_marks = np.max(student)\n",
        "\n"
      ],
      "metadata": {
        "colab": {
          "base_uri": "https://localhost:8080/"
        },
        "id": "00SCN0y6McOv",
        "outputId": "e6c3480a-bc09-4651-d3ce-267548a32ae6"
      },
      "execution_count": 19,
      "outputs": [
        {
          "output_type": "stream",
          "name": "stdout",
          "text": [
            "Student:\n",
            "[[78 85 90]\n",
            " [92 76 88]\n",
            " [65 70 75]\n",
            " [88 91 85]\n",
            " [70 65 72]]\n"
          ]
        }
      ]
    },
    {
      "cell_type": "code",
      "source": [
        "frst_three = student[:3]\n",
        "print(frst_three)"
      ],
      "metadata": {
        "colab": {
          "base_uri": "https://localhost:8080/"
        },
        "id": "6-SxUDiDNajW",
        "outputId": "52a1b3e9-0911-4e53-cfe6-570cf9e31caa"
      },
      "execution_count": 20,
      "outputs": [
        {
          "output_type": "stream",
          "name": "stdout",
          "text": [
            "[[78 85 90]\n",
            " [92 76 88]\n",
            " [65 70 75]]\n"
          ]
        }
      ]
    },
    {
      "cell_type": "code",
      "source": [
        "print_marks_index_4 = student[4,:]\n",
        "print(print_marks_index_4)"
      ],
      "metadata": {
        "colab": {
          "base_uri": "https://localhost:8080/"
        },
        "id": "ozjj4gNfNhum",
        "outputId": "94b1b871-b24a-4655-867c-1095a97500a5"
      },
      "execution_count": 23,
      "outputs": [
        {
          "output_type": "stream",
          "name": "stdout",
          "text": [
            "[70 65 72]\n"
          ]
        }
      ]
    },
    {
      "cell_type": "code",
      "source": [],
      "metadata": {
        "id": "HgDTT5duSEYq"
      },
      "execution_count": null,
      "outputs": []
    },
    {
      "cell_type": "code",
      "metadata": {
        "colab": {
          "base_uri": "https://localhost:8080/"
        },
        "id": "f120736d",
        "outputId": "c76ac955-47ad-4dc4-f21a-66c9845ca232"
      },
      "source": [
        "import numpy as np\n",
        "students_above_80 = student[np.any(student > 80, axis=1)]\n",
        "print(\"Marks of students who scored above 80 in at least one subject:\")\n",
        "print(students_above_80)"
      ],
      "execution_count": 25,
      "outputs": [
        {
          "output_type": "stream",
          "name": "stdout",
          "text": [
            "Marks of students who scored above 80 in at least one subject:\n",
            "[[78 85 90]\n",
            " [92 76 88]\n",
            " [88 91 85]]\n"
          ]
        }
      ]
    },
    {
      "cell_type": "code",
      "source": [
        "subject_wise_performance = student.T\n",
        "print(\"Subject-wise performance (transposed array):\")\n",
        "print(subject_wise_performance)"
      ],
      "metadata": {
        "colab": {
          "base_uri": "https://localhost:8080/"
        },
        "id": "kDLLWFIgSgvg",
        "outputId": "4bf2defe-271f-4c9a-9718-2866fb0eeffc"
      },
      "execution_count": 27,
      "outputs": [
        {
          "output_type": "stream",
          "name": "stdout",
          "text": [
            "Subject-wise performance (transposed array):\n",
            "[[78 92 65 88 70]\n",
            " [85 76 70 91 65]\n",
            " [90 88 75 85 72]]\n"
          ]
        }
      ]
    }
  ]
}